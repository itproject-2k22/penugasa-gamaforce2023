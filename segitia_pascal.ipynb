{
 "cells": [
  {
   "cell_type": "code",
   "execution_count": 87,
   "metadata": {},
   "outputs": [],
   "source": [
    "def segitigaPascal(n):\n",
    "    pascal = []\n",
    "    for i in range(n):\n",
    "        data = [1]\n",
    "        if i == 1:\n",
    "            data.append(1)\n",
    "        if i > 1:\n",
    "            for j in range(i-1):\n",
    "                data.append(pascal[i-1][j]+pascal[i-1][j+1])\n",
    "            data.append(1)\n",
    "        pascal.append(data)\n",
    "    return pascal"
   ]
  },
  {
   "cell_type": "code",
   "execution_count": 147,
   "metadata": {},
   "outputs": [],
   "source": [
    "def printPascal(data):\n",
    "    n = int(len(data[-1])/2)\n",
    "    for i in range(len(data)):\n",
    "        for j in range(n-i):\n",
    "            print(\" \", end=\" \")\n",
    "        for j in range(len(data[i])):\n",
    "            print(data[i][j], end=\" \")\n",
    "        print()"
   ]
  },
  {
   "cell_type": "code",
   "execution_count": 143,
   "metadata": {},
   "outputs": [
    {
     "data": {
      "text/plain": [
       "[[1], [1, 1], [1, 2, 1], [1, 3, 3, 1], [1, 4, 6, 4, 1]]"
      ]
     },
     "execution_count": 143,
     "metadata": {},
     "output_type": "execute_result"
    }
   ],
   "source": [
    "pascal = segitigaPascal(5)\n",
    "pascal\n"
   ]
  },
  {
   "cell_type": "code",
   "execution_count": 148,
   "metadata": {},
   "outputs": [
    {
     "name": "stdout",
     "output_type": "stream",
     "text": [
      "    1 \n",
      "  1 1 \n",
      "1 2 1 \n",
      "1 3 3 1 \n",
      "1 4 6 4 1 \n"
     ]
    }
   ],
   "source": [
    "printPascal(pascal)"
   ]
  }
 ],
 "metadata": {
  "kernelspec": {
   "display_name": "Python 3",
   "language": "python",
   "name": "python3"
  },
  "language_info": {
   "codemirror_mode": {
    "name": "ipython",
    "version": 3
   },
   "file_extension": ".py",
   "mimetype": "text/x-python",
   "name": "python",
   "nbconvert_exporter": "python",
   "pygments_lexer": "ipython3",
   "version": "3.11.5"
  }
 },
 "nbformat": 4,
 "nbformat_minor": 2
}
